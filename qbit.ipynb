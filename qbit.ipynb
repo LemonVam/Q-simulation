{
 "cells": [
  {
   "cell_type": "code",
   "execution_count": 1,
   "id": "aa6639db",
   "metadata": {},
   "outputs": [
    {
     "name": "stdout",
     "output_type": "stream",
     "text": [
      "传统向量: [ 0.25 -0.1   0.33  0.9 ]\n"
     ]
    }
   ],
   "source": [
    "#传统向量\n",
    "import numpy as np\n",
    "from gensim.models import Word2Vec\n",
    "\n",
    "# 假设 Word2Vec 向量为 4维\n",
    "word_vec = np.array([0.25, -0.1, 0.33, 0.9])\n",
    "print(\"传统向量:\", word_vec)"
   ]
  },
  {
   "cell_type": "code",
   "execution_count": 2,
   "id": "22ba222b",
   "metadata": {},
   "outputs": [
    {
     "data": {
      "text/plain": [
       "m=0110111000"
      ]
     },
     "execution_count": 2,
     "metadata": {},
     "output_type": "execute_result"
    }
   ],
   "source": [
    "#Cirq实例\n",
    "import cirq\n",
    "q = cirq.LineQubit(0)\n",
    "circuit = cirq.Circuit(cirq.H(q), cirq.measure(q, key='m'))\n",
    "cirq.Simulator().run(circuit, repetitions=10)"
   ]
  },
  {
   "cell_type": "code",
   "execution_count": 3,
   "id": "50a131f5",
   "metadata": {},
   "outputs": [
    {
     "name": "stdout",
     "output_type": "stream",
     "text": [
      "Bloch vector (x, y, z): [1. 0. 0.]\n"
     ]
    }
   ],
   "source": [
    "#查看 Qubit 的 Bloch 坐标\n",
    "import cirq\n",
    "import numpy as np\n",
    "\n",
    "# 创建一个量子比特和电路\n",
    "q = cirq.LineQubit(0)\n",
    "circuit = cirq.Circuit()\n",
    "circuit.append(cirq.H(q))  # 变成均匀叠加态\n",
    "\n",
    "# 模拟并获取量子态向量\n",
    "simulator = cirq.Simulator()\n",
    "result = simulator.simulate(circuit)\n",
    "\n",
    "# 获取量子态向量的 Bloch 表示\n",
    "state = result.final_state_vector\n",
    "bloch_vector = cirq.bloch_vector_from_state_vector(state, index=0)\n",
    "print(\"Bloch vector (x, y, z):\", np.round(bloch_vector, 3))"
   ]
  },
  {
   "cell_type": "code",
   "execution_count": 4,
   "id": "3174fab0",
   "metadata": {},
   "outputs": [
    {
     "name": "stdout",
     "output_type": "stream",
     "text": [
      "q0=1000110011\n",
      "q1=1000110011\n"
     ]
    }
   ],
   "source": [
    "#创建 Bell 态（最大纠缠）\n",
    "import cirq\n",
    "\n",
    "# 创建两个量子比特\n",
    "q0, q1 = cirq.LineQubit.range(2)\n",
    "\n",
    "# 构建电路：Hadamard + CNOT\n",
    "circuit = cirq.Circuit()\n",
    "circuit.append(cirq.H(q0))          # |0⟩ → (|0⟩ + |1⟩)/√2\n",
    "circuit.append(cirq.CNOT(q0, q1))   # 形成纠缠\n",
    "\n",
    "# 测量两个比特\n",
    "circuit.append(cirq.measure(q0, key='q0'))\n",
    "circuit.append(cirq.measure(q1, key='q1'))\n",
    "\n",
    "# 模拟执行\n",
    "simulator = cirq.Simulator()\n",
    "result = simulator.run(circuit, repetitions=10)\n",
    "print(result)"
   ]
  },
  {
   "cell_type": "code",
   "execution_count": 5,
   "id": "96963475",
   "metadata": {},
   "outputs": [
    {
     "name": "stdout",
     "output_type": "stream",
     "text": [
      "测量结果：\n",
      "m=1111101001\n"
     ]
    }
   ],
   "source": [
    "#Qubit 的创建与测量（用 Cirq）\n",
    "import cirq\n",
    "\n",
    "# 创建一个量子比特\n",
    "qubit = cirq.LineQubit(0)\n",
    "\n",
    "# 创建电路\n",
    "circuit = cirq.Circuit()\n",
    "circuit.append(cirq.H(qubit))              # Hadamard 门：将 |0⟩ → (|0⟩ + |1⟩)/√2\n",
    "circuit.append(cirq.measure(qubit, key='m'))  # 测量\n",
    "\n",
    "# 模拟执行电路\n",
    "simulator = cirq.Simulator()\n",
    "result = simulator.run(circuit, repetitions=10)\n",
    "\n",
    "# 输出结果\n",
    "print(\"测量结果：\")\n",
    "print(result)"
   ]
  },
  {
   "cell_type": "code",
   "execution_count": 6,
   "id": "cc8b24b9",
   "metadata": {},
   "outputs": [
    {
     "name": "stdout",
     "output_type": "stream",
     "text": [
      "量子态振幅向量:\n",
      " [ 0.977+0.j  0.163+0.j -0.049+0.j -0.008+0.j  0.123+0.j  0.02 +0.j\n",
      " -0.006+0.j -0.001+0.j]\n"
     ]
    }
   ],
   "source": [
    "#Cirq 中 Qubit 的状态向量\n",
    "import cirq\n",
    "import numpy as np\n",
    "\n",
    "# 假设用 3 个量子比特来编码 3维 Word2Vec 向量\n",
    "word_vec = [0.25, -0.1, 0.33]\n",
    "qubits = [cirq.LineQubit(i) for i in range(3)]\n",
    "circuit = cirq.Circuit()\n",
    "\n",
    "# 用 ry 编码 Word2Vec 到 qubit\n",
    "for i, angle in enumerate(word_vec):\n",
    "    circuit.append(cirq.ry(angle).on(qubits[i]))\n",
    "\n",
    "simulator = cirq.Simulator()\n",
    "result = simulator.simulate(circuit)\n",
    "print(\"量子态振幅向量:\\n\", np.round(result.final_state_vector, 3))"
   ]
  }
 ],
 "metadata": {
  "kernelspec": {
   "display_name": "PJ",
   "language": "python",
   "name": "python3"
  },
  "language_info": {
   "codemirror_mode": {
    "name": "ipython",
    "version": 3
   },
   "file_extension": ".py",
   "mimetype": "text/x-python",
   "name": "python",
   "nbconvert_exporter": "python",
   "pygments_lexer": "ipython3",
   "version": "3.12.9"
  }
 },
 "nbformat": 4,
 "nbformat_minor": 5
}
